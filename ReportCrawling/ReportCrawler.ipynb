{
 "cells": [
  {
   "cell_type": "code",
   "execution_count": 2,
   "id": "a655c649",
   "metadata": {},
   "outputs": [],
   "source": [
    "import os\n",
    "import re\n",
    "from urllib import request\n",
    "from urllib.error import HTTPError\n",
    "from bs4 import BeautifulSoup\n",
    "import requests\n",
    "import pandas as pd\n",
    "import numpy as np\n",
    "from time import sleep\n",
    "from tqdm import tqdm"
   ]
  },
  {
   "cell_type": "code",
   "execution_count": 3,
   "id": "97ae6d7a",
   "metadata": {},
   "outputs": [
    {
     "data": {
      "text/plain": [
       "'C:\\\\Users\\\\Administrator\\\\Desktop\\\\sera\\\\hankyung_crawling'"
      ]
     },
     "execution_count": 3,
     "metadata": {},
     "output_type": "execute_result"
    }
   ],
   "source": [
    "os.getcwd()"
   ]
  },
  {
   "cell_type": "code",
   "execution_count": 5,
   "id": "76ee6774",
   "metadata": {},
   "outputs": [],
   "source": [
    "#크롤링이 차단되어서 유저 에이전트(User Agent)를 지정\n",
    "#headers = {'user-agent':'Mozilla/5.0 (Macintosh; Intel Mac OS X 10_15_7) AppleWebKit/537.36 (KHTML, like Gecko) Chrome/99.0.4844.83 Safari/537.36'}\n",
    "#headers = {'user-agent':'Mozilla/5.0 (Windows NT 10.0; Win64; x64) AppleWebKit/537.36 (KHTML, like Gecko) Chrome/100.0.4896.60 Safari/537.36'}"
   ]
  },
  {
   "cell_type": "code",
   "execution_count": 6,
   "id": "e27df2c9",
   "metadata": {},
   "outputs": [],
   "source": [
    "pages = list(range(1,9797,1))"
   ]
  },
  {
   "cell_type": "code",
   "execution_count": 7,
   "id": "3afe4bdf",
   "metadata": {},
   "outputs": [],
   "source": [
    "#urlretrieve 차단방지\n",
    "opener = request.build_opener()\n",
    "opener.addheaders = [('User-agent', 'Mozilla/5.0')]\n",
    "request.install_opener(opener)"
   ]
  },
  {
   "cell_type": "code",
   "execution_count": 8,
   "id": "f45af170",
   "metadata": {},
   "outputs": [],
   "source": [
    "#크롤링이 차단되어서 유저 에이전트(User Agent)를 지정\n",
    "from fake_useragent import UserAgent\n",
    "import ssl\n",
    "ssl._create_default_https_context = ssl._create_unverified_context\n",
    "\n",
    "user_agent = UserAgent()\n",
    "headers = {'User-Agent': user_agent.random}\n",
    "#response = requests.get(url, params=params, headers=headers)"
   ]
  },
  {
   "cell_type": "markdown",
   "id": "65b7df63",
   "metadata": {},
   "source": [
    "## 2017.01.01~2022.04.04"
   ]
  },
  {
   "cell_type": "code",
   "execution_count": 9,
   "id": "98f00f1e",
   "metadata": {},
   "outputs": [],
   "source": [
    "data = pd.DataFrame()\n",
    "pdf_error = pd.DataFrame()\n",
    "page_error =[]"
   ]
  },
  {
   "cell_type": "code",
   "execution_count": null,
   "id": "23963653",
   "metadata": {
    "scrolled": true
   },
   "outputs": [
    {
     "name": "stderr",
     "output_type": "stream",
     "text": [
      " 54%|████████████████████████████████████████▎                                 | 5333/9796 [2:03:46<2:32:04,  2.04s/it]"
     ]
    }
   ],
   "source": [
    "for p in tqdm(pages):\n",
    "    try:\n",
    "        url ='http://consensus.hankyung.com/apps.analysis/analysis.list?&sdate={}&edate={}&order_type=&now_page={}'.format(\n",
    "    '2017-01-01','2022-04-04',p)\n",
    "\n",
    "        html = requests.get(url,headers = headers)\n",
    "        soup = BeautifulSoup(html.content, \"html.parser\")\n",
    "\n",
    "        for i in range(1,len(soup.select('tr'))):\n",
    "            date = soup.select('tr')[i].td.get_text('',strip=True)\n",
    "            category=soup.select('tr')[i].find_all('td')[1].get_text('',strip=True)\n",
    "            title = soup.select('tr')[i].li.get_text('',strip=True)\n",
    "            author = soup.select('tr')[i].find_all('td')[-3].get_text('',strip=True)\n",
    "            company = soup.select('tr')[i].find_all('td')[-2].get_text('',strip=True)\n",
    "            tmp = pd.DataFrame(zip([date],[category],[title],[author],[company]))\n",
    "\n",
    "            data = pd.concat([data,tmp],ignore_index=True)\n",
    "\n",
    "            #download_pdf\n",
    "            dlurl = 'http://consensus.hankyung.com'+soup.select('div.dv_input')[i-1].a.get('href')\n",
    "            try : \n",
    "                request.urlretrieve(dlurl, './pdf_file/'+soup.select('div.dv_input')[i-1].a.get('title'))\n",
    "            except : \n",
    "                tmp2 = pd.DataFrame(zip([p],[soup.select('div.dv_input')[i-1].a.get('title')]))\n",
    "                pdf_error = pd.concat([pdf_error,tmp2],ignore_index=True)\n",
    "                pass\n",
    "    except : \n",
    "        page_error.append(p)\n",
    "        pass\n",
    "            \n"
   ]
  },
  {
   "cell_type": "code",
   "execution_count": null,
   "id": "38002517",
   "metadata": {},
   "outputs": [],
   "source": [
    "data.to_csv('hankyung_report.csv',index=False)"
   ]
  },
  {
   "cell_type": "code",
   "execution_count": null,
   "id": "87c53f98",
   "metadata": {},
   "outputs": [],
   "source": [
    "page_error"
   ]
  },
  {
   "cell_type": "code",
   "execution_count": null,
   "id": "022732fe",
   "metadata": {},
   "outputs": [],
   "source": []
  }
 ],
 "metadata": {
  "kernelspec": {
   "display_name": "Python 3 (ipykernel)",
   "language": "python",
   "name": "python3"
  },
  "language_info": {
   "codemirror_mode": {
    "name": "ipython",
    "version": 3
   },
   "file_extension": ".py",
   "mimetype": "text/x-python",
   "name": "python",
   "nbconvert_exporter": "python",
   "pygments_lexer": "ipython3",
   "version": "3.9.12"
  }
 },
 "nbformat": 4,
 "nbformat_minor": 5
}
